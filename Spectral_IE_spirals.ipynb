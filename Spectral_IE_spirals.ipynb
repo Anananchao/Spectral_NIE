{
 "cells": [
  {
   "cell_type": "code",
   "execution_count": null,
   "id": "e13a72c2-fc30-489c-a9db-f3b31de1093c",
   "metadata": {
    "tags": []
   },
   "outputs": [],
   "source": [
    "!conda info"
   ]
  },
  {
   "cell_type": "code",
   "execution_count": null,
   "id": "13344484-de02-4ba2-bc5c-127ba0884c08",
   "metadata": {
    "tags": []
   },
   "outputs": [],
   "source": []
  },
  {
   "cell_type": "code",
   "execution_count": null,
   "id": "3ad3d2b7-395c-4a1b-b9ba-978d4508bdc4",
   "metadata": {
    "tags": []
   },
   "outputs": [],
   "source": [
    "import GPUtil\n",
    "GPUtil.getAvailable()"
   ]
  },
  {
   "cell_type": "code",
   "execution_count": null,
   "id": "0ccea390-6e7b-4ea9-b664-86909e5d87ee",
   "metadata": {
    "tags": []
   },
   "outputs": [],
   "source": [
    "import torch\n",
    "torch.cuda.is_available()"
   ]
  },
  {
   "cell_type": "code",
   "execution_count": null,
   "id": "c94d98f0-fc3e-4792-8f2a-fc79cad2d6ae",
   "metadata": {},
   "outputs": [],
   "source": []
  },
  {
   "cell_type": "code",
   "execution_count": null,
   "id": "2009c73d",
   "metadata": {
    "tags": []
   },
   "outputs": [],
   "source": [
    "import logging\n",
    "import warnings\n",
    "from typing import Callable, Optional, Union\n",
    "import os, argparse\n",
    "\n",
    "import numpy as np\n",
    "import torch\n",
    "import torch_dct as dct\n",
    "import torch.fft as fft\n",
    "\n",
    "from scipy import integrate\n",
    "import time\n",
    "import pickle\n",
    "from torch.utils.data import Dataset\n",
    "\n",
    "logger = logging.getLogger(\"iesolver\")\n",
    "logger.setLevel(logging.WARNING)#(logging.DEBUG)\n",
    "\n",
    "import matplotlib.pyplot as plt\n",
    "\n",
    "\n",
    "import torchcubicspline\n",
    "from torchcubicspline import(natural_cubic_spline_coeffs, \n",
    "                             NaturalCubicSpline)\n",
    "                             \n",
    "from torchdiffeq import odeint\n",
    "\n",
    "\n",
    "from spectral_source.integrators import MonteCarlo \n",
    "mc = MonteCarlo()\n",
    "\n",
    "from spectral_source.spectral_integrator import Chebyshev_nchannel, spectral_integrator_nchannels, spectral_integrator, Chebyshev\n",
    "from spectral_source.spectral_ie_solver import Spectral_IE_solver\n",
    "from spectral_source.spectral_experiments import spectral_experiment \n",
    "\n",
    "from spectral_source.utils import fix_random_seeds,to_np\n",
    "\n",
    "if torch.cuda.is_available():  \n",
    "    device = \"cuda:0\" \n",
    "else:  \n",
    "    device = \"cpu\"\n",
    "   \n",
    "    \n",
    "parser = argparse.ArgumentParser(description='Neural IE')\n",
    "parser.add_argument('-root_path', metavar='DIR', default='',\n",
    "                    help='path to dataset')\n",
    "parser.add_argument('-dataset-name', default='stl10',\n",
    "                    help='dataset name', choices=['acrobot_dataset'])\n",
    "\n",
    "parser.add_argument('-j', '--workers', default=12, type=int, metavar='N',\n",
    "                    help='number of data loading workers (default: 32)')\n",
    "parser.add_argument('--epochs', default=3000, type=int, metavar='N',\n",
    "                    help='number of total epochs to run')\n",
    "parser.add_argument('-b', '--batch_size', default=20, type=int,\n",
    "                    metavar='N',\n",
    "                    help='mini-batch size (default: 256), this is the total '\n",
    "                         'batch size of all GPUs on the current node when '\n",
    "                         'using Data Parallel or Distributed Data Parallel')\n",
    "parser.add_argument('--lr', '--learning-rate', default=1e-4, type=float,\n",
    "                    metavar='LR', help='initial learning rate', dest='lr')\n",
    "parser.add_argument('--wd', '--weight-decay', default=1e-4, type=float,\n",
    "                    metavar='W', help='weight decay (default: 1e-4)',\n",
    "                    dest='weight_decay')\n",
    "parser.add_argument('--seed', default=None, type=int,\n",
    "                    help='seed for initializing training. ')\n",
    "parser.add_argument('--disable-cuda', action='store_true',\n",
    "                    help='Disable CUDA')\n",
    "parser.add_argument('--fp16-precision', action='store_true',\n",
    "                    help='Whether or not to use 16-bit precision GPU training.')\n",
    "\n",
    "parser.add_argument('--out_dim', default=128, type=int,\n",
    "                    help='feature dimension (default: 128)')\n",
    "parser.add_argument('--log-every-n-steps', default=100, type=int,\n",
    "                    help='Log every n steps')\n",
    "parser.add_argument('--temperature', default=0.07, type=float,\n",
    "                    help='softmax temperature (default: 0.07)')\n",
    "parser.add_argument('--n-views', default=2, type=int, metavar='N',\n",
    "                    help='Number of views for contrastive learning training.')\n",
    "parser.add_argument('--gpu-index', default=0, type=int, help='Gpu index.')\n",
    "parser.add_argument('--model', default='simclr', choices=['simclr','lipschitz_simclr','vae','gan'], \n",
    "                    help='Models to be used')\n",
    "parser.add_argument('--mode', default='train', choices=['train','evaluate'], \n",
    "                    help='Set to ''evaluate'' if inference is desired')\n",
    "parser.add_argument('--training_split', default=0.25,type=float, \n",
    "                    help='Fraction of the samples that will be used for validation')\n",
    "parser.add_argument('--resume_from_checkpoint', default=None, \n",
    "                    help='Give string to run number. Ex: \"run12\"')\n",
    "parser.add_argument('--plot_freq', default=1, type=int,help='')\n",
    "parser.add_argument('--experiment_name', default=None,help='')\n",
    "    \n",
    "    "
   ]
  },
  {
   "cell_type": "code",
   "execution_count": null,
   "id": "b3dd3b12",
   "metadata": {
    "tags": []
   },
   "outputs": [],
   "source": [
    "import math\n",
    "import numpy as np\n",
    "from IPython.display import clear_output\n",
    "from tqdm import tqdm_notebook as tqdm\n",
    "\n",
    "import matplotlib as mpl\n",
    "import matplotlib.pyplot as plt\n",
    "%matplotlib inline\n",
    "import seaborn as sns\n",
    "sns.color_palette(\"bright\")\n",
    "import matplotlib as mpl\n",
    "import matplotlib.cm as cm\n",
    "\n",
    "import torch\n",
    "from torch import Tensor\n",
    "from torch import nn\n",
    "from torch.nn  import functional as F\n",
    "from torch.autograd import Variable\n",
    "\n",
    "use_cuda = torch.cuda.is_available()"
   ]
  },
  {
   "cell_type": "code",
   "execution_count": null,
   "id": "672b1d9e-5c33-47a5-820d-9a5491fa9543",
   "metadata": {
    "tags": []
   },
   "outputs": [],
   "source": [
    "use_cuda"
   ]
  },
  {
   "cell_type": "code",
   "execution_count": null,
   "id": "244d6cc8",
   "metadata": {
    "tags": []
   },
   "outputs": [],
   "source": [
    "from functools import reduce\n",
    "from spectral_source import kernels, integrators \n",
    "from spectral_source.utils import to_np\n",
    "import random\n",
    "import pickle\n",
    "import time"
   ]
  },
  {
   "cell_type": "code",
   "execution_count": null,
   "id": "d52b0fec",
   "metadata": {
    "tags": []
   },
   "outputs": [],
   "source": [
    "args = parser.parse_args(\"\")\n",
    "args.model='spectral'\n",
    "args.mode='train'\n",
    "#args.mode='evaluate'\n",
    "args.dataset_name = 'spectral_integral_equations'\n",
    "args.seed = 7\n",
    "args.experiment_name = 'IE_spirals'\n",
    "args.plot_freq = 100\n",
    "args.device = device\n",
    "args.num_dim_plot = 2\n",
    "args.lr = 1e-3\n",
    "args.min_lr=1e-6\n",
    "args.T_max = 51\n",
    "args.plat_patience = 10\n",
    "args.factor = 0.1\n",
    "# args.temperature=0.001\n",
    "#args.lr_scheduler = 'ReduceLROnPlateau'\n",
    "args.lr_scheduler = 'CosineAnnealingLR'\n",
    "#args.resume_from_checkpoint = 'run19'\n",
    "fix_random_seeds(args.seed)\n",
    "args.perturbation_to_obs0=None\n",
    "args.training_split=0.2\n",
    "args.smoothing_factor= .5\n",
    "args.n_batch = 16\n",
    "args.max_deg = 8  #maximum degree for Chebyshev polynomials used for the expansion\n",
    "args.patience = 200\n",
    "args.support_tensors=False\n",
    "args.support_test=False\n",
    "args.dim = 2\n",
    "args.time_points = 100\n",
    "args.f_nn = True\n",
    "args.integrator_nn = False\n",
    "args.chebyshev = True\n",
    "args.max_iterations = 3\n",
    "args.interpolation = False\n",
    "args.channels = 2\n",
    "args.N_MC = 1000"
   ]
  },
  {
   "cell_type": "code",
   "execution_count": null,
   "id": "72337e1d",
   "metadata": {},
   "outputs": [],
   "source": []
  },
  {
   "cell_type": "code",
   "execution_count": null,
   "id": "84af5e7f",
   "metadata": {},
   "outputs": [],
   "source": [
    "from spectral_source.spectral_functions import F_NN, F_func"
   ]
  },
  {
   "cell_type": "code",
   "execution_count": null,
   "id": "7b0d076c",
   "metadata": {},
   "outputs": [],
   "source": []
  },
  {
   "cell_type": "code",
   "execution_count": null,
   "id": "43fb8c91",
   "metadata": {},
   "outputs": [],
   "source": []
  },
  {
   "cell_type": "code",
   "execution_count": null,
   "id": "35084632",
   "metadata": {
    "tags": []
   },
   "outputs": [],
   "source": [
    "Data = pickle.load(open(\"spectral_source/50_IE_Spirals.pkl\",\"rb\"))\n",
    "Data = Data.to(device)"
   ]
  },
  {
   "cell_type": "code",
   "execution_count": null,
   "id": "9ec8f7fd-3c88-4594-8bb6-85eb432f5e57",
   "metadata": {},
   "outputs": [],
   "source": []
  },
  {
   "cell_type": "code",
   "execution_count": null,
   "id": "67ab28cc-610e-415d-8327-4ab83a707389",
   "metadata": {},
   "outputs": [],
   "source": []
  },
  {
   "cell_type": "code",
   "execution_count": null,
   "id": "e993e6d4",
   "metadata": {
    "tags": []
   },
   "outputs": [],
   "source": []
  },
  {
   "cell_type": "code",
   "execution_count": null,
   "id": "2c77d651",
   "metadata": {
    "tags": []
   },
   "outputs": [],
   "source": [
    "Data.shape"
   ]
  },
  {
   "cell_type": "code",
   "execution_count": null,
   "id": "bad0a61b",
   "metadata": {},
   "outputs": [],
   "source": [
    "if args.mode == 'train':\n",
    "    Data = Data[:-96,...].to(device)\n",
    "if args.mode == 'evaluate':\n",
    "    Data = Data[-96:,...].to(device)"
   ]
  },
  {
   "cell_type": "code",
   "execution_count": null,
   "id": "195f7f17-dd1a-48a4-afd3-9b01f4dc4ad2",
   "metadata": {},
   "outputs": [],
   "source": [
    "if args.interpolation and args.mode=='train':\n",
    "    Data = Data[:,::2,:]"
   ]
  },
  {
   "cell_type": "code",
   "execution_count": null,
   "id": "a143b20d-297b-4401-b57c-eaa76a9076f5",
   "metadata": {},
   "outputs": [],
   "source": [
    "Data.shape"
   ]
  },
  {
   "cell_type": "code",
   "execution_count": null,
   "id": "5d976eca",
   "metadata": {
    "tags": []
   },
   "outputs": [],
   "source": [
    "args.ts_integration = None"
   ]
  },
  {
   "cell_type": "code",
   "execution_count": null,
   "id": "c852db52",
   "metadata": {},
   "outputs": [],
   "source": []
  },
  {
   "cell_type": "code",
   "execution_count": null,
   "id": "d2d37ef5",
   "metadata": {
    "tags": []
   },
   "outputs": [],
   "source": [
    "nCheb = Chebyshev_nchannel(max_deg=args.max_deg,n_batch=2,N_mc=args.N_MC,device=device)"
   ]
  },
  {
   "cell_type": "code",
   "execution_count": null,
   "id": "a92d9eb9",
   "metadata": {},
   "outputs": [],
   "source": []
  },
  {
   "cell_type": "code",
   "execution_count": null,
   "id": "368cb449",
   "metadata": {
    "tags": []
   },
   "outputs": [],
   "source": [
    "def interpolator(time,obs):\n",
    "        x = time\n",
    "        y = obs\n",
    "        coeffs = natural_cubic_spline_coeffs(x, y)\n",
    "        interpolation = NaturalCubicSpline(coeffs)\n",
    "\n",
    "        def output(point:torch.Tensor):\n",
    "            return interpolation.evaluate(point)\n",
    "\n",
    "        return output"
   ]
  },
  {
   "cell_type": "code",
   "execution_count": null,
   "id": "1c51acbf",
   "metadata": {
    "tags": []
   },
   "outputs": [],
   "source": [
    "times = torch.linspace(-1,1,100).to(device)"
   ]
  },
  {
   "cell_type": "code",
   "execution_count": null,
   "id": "22781ce9-9e72-4012-a82a-7c173a97d0a9",
   "metadata": {},
   "outputs": [],
   "source": [
    "if args.interpolation:\n",
    "    times = times[::2]"
   ]
  },
  {
   "cell_type": "code",
   "execution_count": null,
   "id": "e9bfd237",
   "metadata": {
    "tags": []
   },
   "outputs": [],
   "source": []
  },
  {
   "cell_type": "code",
   "execution_count": null,
   "id": "3c43fc3a",
   "metadata": {
    "tags": []
   },
   "outputs": [],
   "source": [
    "def func_data(x):\n",
    "    \n",
    "    return interpolated_func(x)"
   ]
  },
  {
   "cell_type": "code",
   "execution_count": null,
   "id": "6f9035c5",
   "metadata": {},
   "outputs": [],
   "source": []
  },
  {
   "cell_type": "code",
   "execution_count": null,
   "id": "8646f3ff",
   "metadata": {},
   "outputs": [],
   "source": [
    "times.shape"
   ]
  },
  {
   "cell_type": "code",
   "execution_count": null,
   "id": "80928f2a-cde8-4090-8f0a-f61acffd280e",
   "metadata": {},
   "outputs": [],
   "source": [
    "if args.interpolation is False:\n",
    "    init_ = 50\n",
    "else:\n",
    "    init_ = 25"
   ]
  },
  {
   "cell_type": "code",
   "execution_count": null,
   "id": "41466e22",
   "metadata": {
    "scrolled": true,
    "tags": []
   },
   "outputs": [],
   "source": [
    "X = torch.Tensor([]).to(device)\n",
    "for i in range(0,Data.shape[0],2):\n",
    "    interpolated_func = interpolator(times[::init_],Data[i:i+2,::init_,...])\n",
    "\n",
    "    X_ = nCheb.expand(lambda x: interpolated_func(x))\n",
    "    X = torch.cat([X,X_],0)\n",
    "    del X_\n",
    "print(X.shape)"
   ]
  },
  {
   "cell_type": "code",
   "execution_count": null,
   "id": "1ee8e7e5",
   "metadata": {},
   "outputs": [],
   "source": []
  },
  {
   "cell_type": "code",
   "execution_count": null,
   "id": "a8ca054f",
   "metadata": {},
   "outputs": [],
   "source": []
  },
  {
   "cell_type": "code",
   "execution_count": null,
   "id": "94d62400",
   "metadata": {
    "tags": []
   },
   "outputs": [],
   "source": [
    "interpolated_func = interpolator(times,Data[:2,...])\n",
    "y_spir = interpolated_func(times)"
   ]
  },
  {
   "cell_type": "code",
   "execution_count": null,
   "id": "4a338fbb",
   "metadata": {
    "tags": []
   },
   "outputs": [],
   "source": [
    "y_spir.shape"
   ]
  },
  {
   "cell_type": "code",
   "execution_count": null,
   "id": "f607856d",
   "metadata": {
    "scrolled": true,
    "tags": []
   },
   "outputs": [],
   "source": [
    "plt.scatter(to_np(y_spir)[0,:,0],to_np(y_spir)[0,:,1])"
   ]
  },
  {
   "cell_type": "code",
   "execution_count": null,
   "id": "b6d3f030",
   "metadata": {},
   "outputs": [],
   "source": []
  },
  {
   "cell_type": "code",
   "execution_count": null,
   "id": "22615403",
   "metadata": {
    "tags": []
   },
   "outputs": [],
   "source": [
    "reconstruction_func = nCheb.inverse(X[:2,...])"
   ]
  },
  {
   "cell_type": "code",
   "execution_count": null,
   "id": "78f2e8b9",
   "metadata": {
    "tags": []
   },
   "outputs": [],
   "source": [
    "reconstruction = reconstruction_func(times)"
   ]
  },
  {
   "cell_type": "code",
   "execution_count": null,
   "id": "2a9afed8",
   "metadata": {},
   "outputs": [],
   "source": []
  },
  {
   "cell_type": "code",
   "execution_count": null,
   "id": "51a76b0e",
   "metadata": {
    "scrolled": true,
    "tags": []
   },
   "outputs": [],
   "source": [
    "torch.abs(reconstruction - y_spir[...])"
   ]
  },
  {
   "cell_type": "code",
   "execution_count": null,
   "id": "60ff6916",
   "metadata": {
    "tags": []
   },
   "outputs": [],
   "source": [
    "torch.abs(reconstruction - y_spir[...]).min(), torch.abs(reconstruction - y_spir[...]).max(), torch.abs(reconstruction - y_spir[...]).mean()"
   ]
  },
  {
   "cell_type": "code",
   "execution_count": null,
   "id": "88cb219b",
   "metadata": {
    "tags": []
   },
   "outputs": [],
   "source": [
    "plt.scatter(to_np(reconstruction)[0,:,0],to_np(reconstruction)[0,:,1])"
   ]
  },
  {
   "cell_type": "code",
   "execution_count": null,
   "id": "d701c22a",
   "metadata": {},
   "outputs": [],
   "source": []
  },
  {
   "cell_type": "code",
   "execution_count": null,
   "id": "ee2ef739",
   "metadata": {},
   "outputs": [],
   "source": []
  },
  {
   "cell_type": "code",
   "execution_count": null,
   "id": "930b4d95",
   "metadata": {
    "tags": []
   },
   "outputs": [],
   "source": [
    "spectral_coeff = X"
   ]
  },
  {
   "cell_type": "code",
   "execution_count": null,
   "id": "306c98b3",
   "metadata": {
    "tags": []
   },
   "outputs": [],
   "source": [
    "spectral_integrator = spectral_integrator_nchannels(\n",
    "                      [args.n_batch]+[X.shape[1]]+[X.shape[i] for i in range(1,len(X.shape))],device=device\n",
    "                      )"
   ]
  },
  {
   "cell_type": "code",
   "execution_count": null,
   "id": "48db1d03",
   "metadata": {
    "tags": []
   },
   "outputs": [],
   "source": [
    "spectral_coeff.shape"
   ]
  },
  {
   "cell_type": "code",
   "execution_count": null,
   "id": "be2514a0",
   "metadata": {
    "tags": []
   },
   "outputs": [],
   "source": [
    "spectral_coeff = spectral_coeff.detach()"
   ]
  },
  {
   "cell_type": "code",
   "execution_count": null,
   "id": "2826eb46",
   "metadata": {},
   "outputs": [],
   "source": []
  },
  {
   "cell_type": "code",
   "execution_count": null,
   "id": "406aae04",
   "metadata": {},
   "outputs": [],
   "source": []
  },
  {
   "cell_type": "code",
   "execution_count": null,
   "id": "30a8fc77",
   "metadata": {
    "tags": []
   },
   "outputs": [],
   "source": [
    "#model = F_NN(2*(args.max_deg+1),2*args.max_deg,2*args.max_deg,[4]).to(device)\n",
    "model = F_NN(2*(args.max_deg+1),2*args.max_deg,2*args.max_deg,[100,100,100]).to(device)"
   ]
  },
  {
   "cell_type": "code",
   "execution_count": null,
   "id": "58c226ad",
   "metadata": {
    "tags": []
   },
   "outputs": [],
   "source": [
    "f_func = F_func(2,2,[100,100,100]).to(device)"
   ]
  },
  {
   "cell_type": "code",
   "execution_count": null,
   "id": "e13efb42",
   "metadata": {
    "tags": []
   },
   "outputs": [],
   "source": [
    "times = torch.linspace(-1,1,100).to(device)\n",
    "if args.interpolation:\n",
    "    times = times[::2]"
   ]
  },
  {
   "cell_type": "code",
   "execution_count": null,
   "id": "482fc108",
   "metadata": {
    "tags": []
   },
   "outputs": [],
   "source": [
    "nCheb = Chebyshev_nchannel(max_deg=args.max_deg,n_batch=args.n_batch,N_mc=args.N_MC,device=device)"
   ]
  },
  {
   "cell_type": "code",
   "execution_count": null,
   "id": "c859f864",
   "metadata": {},
   "outputs": [],
   "source": []
  },
  {
   "cell_type": "code",
   "execution_count": null,
   "id": "e63cde6f",
   "metadata": {},
   "outputs": [],
   "source": []
  },
  {
   "cell_type": "code",
   "execution_count": null,
   "id": "3f36d89c",
   "metadata": {},
   "outputs": [],
   "source": []
  },
  {
   "cell_type": "code",
   "execution_count": null,
   "id": "5a4c7f06",
   "metadata": {},
   "outputs": [],
   "source": []
  },
  {
   "cell_type": "code",
   "execution_count": null,
   "id": "c44751c4",
   "metadata": {
    "tags": []
   },
   "outputs": [],
   "source": [
    "p_shapes = []\n",
    "flat_parameters = []\n",
    "for p in model.parameters():\n",
    "    p_shapes.append(p.size())\n",
    "    flat_parameters.append(p.flatten())\n",
    "all_parameters = torch.cat(flat_parameters)"
   ]
  },
  {
   "cell_type": "code",
   "execution_count": null,
   "id": "78c909b3",
   "metadata": {
    "tags": []
   },
   "outputs": [],
   "source": [
    "all_parameters.shape"
   ]
  },
  {
   "cell_type": "code",
   "execution_count": null,
   "id": "09cf7a1c",
   "metadata": {
    "tags": []
   },
   "outputs": [],
   "source": [
    "if args.f_nn is True:    \n",
    "    p_shapes = []\n",
    "    flat_parameters = []\n",
    "    for p in f_func.parameters():\n",
    "        p_shapes.append(p.size())\n",
    "        flat_parameters.append(p.flatten())\n",
    "    all_parameters = torch.cat(flat_parameters)\n",
    "print(all_parameters.shape)"
   ]
  },
  {
   "cell_type": "code",
   "execution_count": null,
   "id": "06ee8f04",
   "metadata": {},
   "outputs": [],
   "source": []
  },
  {
   "cell_type": "code",
   "execution_count": null,
   "id": "8ef37a3d",
   "metadata": {},
   "outputs": [],
   "source": []
  },
  {
   "cell_type": "code",
   "execution_count": null,
   "id": "97d939b6",
   "metadata": {},
   "outputs": [],
   "source": [
    "times.shape"
   ]
  },
  {
   "cell_type": "code",
   "execution_count": null,
   "id": "43d5d820",
   "metadata": {
    "scrolled": true,
    "tags": []
   },
   "outputs": [],
   "source": [
    "spectral_experiment(model, Data, spectral_coeff, interpolator, times, args, chebyshev_transform=nCheb, cosine_transform=None, spectral_integrator=spectral_integrator, f_func = f_func)\n"
   ]
  },
  {
   "cell_type": "code",
   "execution_count": null,
   "id": "bc44a3c1",
   "metadata": {
    "tags": []
   },
   "outputs": [],
   "source": []
  },
  {
   "cell_type": "code",
   "execution_count": null,
   "id": "d8bd5574-4002-4f1b-a3cd-0b036f864bd2",
   "metadata": {},
   "outputs": [],
   "source": []
  },
  {
   "cell_type": "code",
   "execution_count": null,
   "id": "035f1b14",
   "metadata": {},
   "outputs": [],
   "source": []
  },
  {
   "cell_type": "code",
   "execution_count": null,
   "id": "531ef0d7",
   "metadata": {
    "tags": []
   },
   "outputs": [],
   "source": []
  },
  {
   "cell_type": "code",
   "execution_count": null,
   "id": "fc695434-1b73-45bc-a885-2efaafb72aef",
   "metadata": {},
   "outputs": [],
   "source": []
  },
  {
   "cell_type": "code",
   "execution_count": null,
   "id": "f65d441a-b064-4ba3-b75b-3f800c1664f7",
   "metadata": {},
   "outputs": [],
   "source": []
  }
 ],
 "metadata": {
  "kernelspec": {
   "display_name": "Python 3 (ipykernel)",
   "language": "python",
   "name": "python3"
  },
  "language_info": {
   "codemirror_mode": {
    "name": "ipython",
    "version": 3
   },
   "file_extension": ".py",
   "mimetype": "text/x-python",
   "name": "python",
   "nbconvert_exporter": "python",
   "pygments_lexer": "ipython3",
   "version": "3.11.4"
  },
  "toc": {
   "base_numbering": 1,
   "nav_menu": {},
   "number_sections": true,
   "sideBar": true,
   "skip_h1_title": false,
   "title_cell": "Table of Contents",
   "title_sidebar": "Contents",
   "toc_cell": false,
   "toc_position": {},
   "toc_section_display": true,
   "toc_window_display": false
  },
  "toc-autonumbering": true,
  "toc-showmarkdowntxt": true
 },
 "nbformat": 4,
 "nbformat_minor": 5
}
